{
  "nbformat": 4,
  "nbformat_minor": 0,
  "metadata": {
    "colab": {
      "provenance": [],
      "authorship_tag": "ABX9TyOubZabwAnbXQmnGsBnHZBG",
      "include_colab_link": true
    },
    "kernelspec": {
      "name": "python3",
      "display_name": "Python 3"
    },
    "language_info": {
      "name": "python"
    }
  },
  "cells": [
    {
      "cell_type": "markdown",
      "metadata": {
        "id": "view-in-github",
        "colab_type": "text"
      },
      "source": [
        "<a href=\"https://colab.research.google.com/github/Afnan05443/ai_mini_projects/blob/main/ai_mini_projects_afnan.ipynb\" target=\"_parent\"><img src=\"https://colab.research.google.com/assets/colab-badge.svg\" alt=\"Open In Colab\"/></a>"
      ]
    },
    {
      "cell_type": "code",
      "source": [
        "# === AI Loan Approver (v2 SAFE) ===\n",
        "# Paste into a fresh Google Colab cell and run.\n",
        "\n",
        "import numpy as np\n",
        "import pandas as pd\n",
        "from sklearn.model_selection import train_test_split\n",
        "from sklearn.ensemble import RandomForestClassifier\n",
        "from sklearn.metrics import accuracy_score, classification_report, confusion_matrix\n",
        "\n",
        "# Reproducibility\n",
        "SEED = 42\n",
        "rng = np.random.default_rng(SEED)\n",
        "\n",
        "# 1) Generate synthetic data (balanced classes by design)\n",
        "n = 800\n",
        "income            = rng.normal(3000, 1200, n).clip(500, 12000)     # monthly USD\n",
        "credit_score      = rng.normal(650, 80, n).clip(300, 850)          # FICO-like\n",
        "debt_to_income    = rng.uniform(0.05, 0.6, n)                      # ratio\n",
        "employment_years  = rng.integers(0, 15, n)                         # years\n",
        "loan_amount       = rng.normal(8000, 5000, n).clip(1000, 30000)    # USD\n",
        "\n",
        "# Hidden scoring rule -> then we threshold at the median so both classes exist\n",
        "score = (\n",
        "    0.003 * income\n",
        "    + 0.01 * (credit_score - 600)\n",
        "    - 1.5  * debt_to_income\n",
        "    + 0.05 * employment_years\n",
        "    - 0.00003 * loan_amount\n",
        "    + rng.normal(0, 0.30, n)\n",
        ")\n",
        "threshold = np.median(score)\n",
        "y = (score > threshold).astype(int)   # roughly 50/50  (1=Approve, 0=Reject)\n",
        "\n",
        "X = pd.DataFrame({\n",
        "    \"income\": income,\n",
        "    \"credit_score\": credit_score,\n",
        "    \"debt_to_income\": debt_to_income,\n",
        "    \"employment_years\": employment_years,\n",
        "    \"loan_amount\": loan_amount\n",
        "})\n",
        "\n",
        "# 2) Train/test split (stratify keeps the 0/1 balance)\n",
        "Xtr, Xte, ytr, yte = train_test_split(\n",
        "    X, y, test_size=0.25, random_state=SEED, stratify=y\n",
        ")\n",
        "\n",
        "# 3) Train model\n",
        "model = RandomForestClassifier(n_estimators=200, random_state=SEED)\n",
        "model.fit(Xtr, ytr)\n",
        "\n",
        "# 4) Evaluate (labels specified so reports never crash even if a class is rare)\n",
        "pred = model.predict(Xte)\n",
        "print(\"Accuracy:\", round(accuracy_score(yte, pred), 3))\n",
        "\n",
        "print(\"\\nClassification Report:\\n\",\n",
        "      classification_report(\n",
        "          yte, pred,\n",
        "          labels=[0, 1],\n",
        "          target_names=[\"Reject\", \"Approve\"],\n",
        "          zero_division=0\n",
        "      ))\n",
        "\n",
        "print(\"\\nConfusion Matrix:\\n\",\n",
        "      confusion_matrix(yte, pred, labels=[0, 1]))\n",
        "\n",
        "# 5) Simple predictor function\n",
        "def approve_loan(income, credit_score, dti, years, loan_amount):\n",
        "    x = np.array([[income, credit_score, dti, years, loan_amount]])\n",
        "    p = model.predict_proba(x)[0, 1]\n",
        "    return (\"Approve\" if p >= 0.5 else \"Reject\", round(float(p), 2))\n",
        "\n",
        "# Example call\n",
        "print(\"\\nExample:\", approve_loan(4000, 700, 0.25, 3, 10000))"
      ],
      "metadata": {
        "colab": {
          "base_uri": "https://localhost:8080/"
        },
        "id": "NhWC4GDoVBqe",
        "outputId": "a48e8a80-5a5c-487e-ad84-bbca932dac8c"
      },
      "execution_count": 12,
      "outputs": [
        {
          "output_type": "stream",
          "name": "stdout",
          "text": [
            "Accuracy: 0.945\n",
            "\n",
            "Classification Report:\n",
            "               precision    recall  f1-score   support\n",
            "\n",
            "      Reject       0.96      0.93      0.94       100\n",
            "     Approve       0.93      0.96      0.95       100\n",
            "\n",
            "    accuracy                           0.94       200\n",
            "   macro avg       0.95      0.95      0.94       200\n",
            "weighted avg       0.95      0.94      0.94       200\n",
            "\n",
            "\n",
            "Confusion Matrix:\n",
            " [[93  7]\n",
            " [ 4 96]]\n",
            "\n",
            "Example: ('Approve', 0.99)\n"
          ]
        },
        {
          "output_type": "stream",
          "name": "stderr",
          "text": [
            "/usr/local/lib/python3.12/dist-packages/sklearn/utils/validation.py:2739: UserWarning: X does not have valid feature names, but RandomForestClassifier was fitted with feature names\n",
            "  warnings.warn(\n"
          ]
        }
      ]
    },
    {
      "cell_type": "code",
      "source": [],
      "metadata": {
        "id": "073oKWPtVEC_"
      },
      "execution_count": null,
      "outputs": []
    }
  ]
}