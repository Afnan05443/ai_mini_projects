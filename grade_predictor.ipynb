{
  "nbformat": 4,
  "nbformat_minor": 0,
  "metadata": {
    "colab": {
      "provenance": [],
      "authorship_tag": "ABX9TyNSJMpjSXT1uLYC/9Bnexgp",
      "include_colab_link": true
    },
    "kernelspec": {
      "name": "python3",
      "display_name": "Python 3"
    },
    "language_info": {
      "name": "python"
    }
  },
  "cells": [
    {
      "cell_type": "markdown",
      "metadata": {
        "id": "view-in-github",
        "colab_type": "text"
      },
      "source": [
        "<a href=\"https://colab.research.google.com/github/Afnan05443/ai_mini_projects/blob/main/grade_predictor.ipynb\" target=\"_parent\"><img src=\"https://colab.research.google.com/assets/colab-badge.svg\" alt=\"Open In Colab\"/></a>"
      ]
    },
    {
      "cell_type": "code",
      "execution_count": 1,
      "metadata": {
        "colab": {
          "base_uri": "https://localhost:8080/"
        },
        "id": "jJBr2JIMPZYM",
        "outputId": "dd7541c9-1a98-4fd8-dac6-e043e06561eb"
      },
      "outputs": [
        {
          "output_type": "stream",
          "name": "stdout",
          "text": [
            "Accuracy: 0.913\n",
            "\n",
            "Classification Report:\n",
            "               precision    recall  f1-score   support\n",
            "\n",
            "        Fail       0.80      0.90      0.85        41\n",
            "        Pass       0.96      0.92      0.94       109\n",
            "\n",
            "    accuracy                           0.91       150\n",
            "   macro avg       0.88      0.91      0.89       150\n",
            "weighted avg       0.92      0.91      0.91       150\n",
            "\n",
            "\n",
            "Confusion Matrix:\n",
            " [[ 37   4]\n",
            " [  9 100]]\n",
            "\n",
            "Example prediction → Pass (prob=0.99)\n"
          ]
        },
        {
          "output_type": "stream",
          "name": "stderr",
          "text": [
            "/usr/local/lib/python3.12/dist-packages/sklearn/utils/validation.py:2739: UserWarning: X does not have valid feature names, but StandardScaler was fitted with feature names\n",
            "  warnings.warn(\n"
          ]
        },
        {
          "output_type": "execute_result",
          "data": {
            "text/plain": [
              "['grade_scaler.joblib']"
            ]
          },
          "metadata": {},
          "execution_count": 1
        }
      ],
      "source": [
        "# --- Student Grade Predictor (binary: Pass/Fail) ---\n",
        "# Runs in Colab. No installs needed.\n",
        "\n",
        "import numpy as np\n",
        "import pandas as pd\n",
        "from sklearn.model_selection import train_test_split\n",
        "from sklearn.preprocessing import StandardScaler\n",
        "from sklearn.linear_model import LogisticRegression\n",
        "from sklearn.metrics import accuracy_score, classification_report, confusion_matrix\n",
        "\n",
        "# 1) Make a small synthetic dataset (you can say you simulated based on typical patterns)\n",
        "rng = np.random.default_rng(42)\n",
        "n = 600\n",
        "study_hours   = rng.uniform(0, 6, n)           # 0–6 hrs/day\n",
        "attendance    = rng.uniform(50, 100, n)        # %\n",
        "test1         = rng.normal(65, 12, n).clip(0, 100)\n",
        "test2         = rng.normal(68, 12, n).clip(0, 100)\n",
        "\n",
        "# Ground truth rule (simple but realistic): weighted sum + noise\n",
        "score = (0.35*test1 + 0.40*test2 + 0.15*attendance + 6*study_hours) + rng.normal(0, 5, n)\n",
        "y = (score >= 70).astype(int)  # 1 = Pass, 0 = Fail\n",
        "\n",
        "X = pd.DataFrame({\n",
        "    \"study_hours\": study_hours,\n",
        "    \"attendance\": attendance,\n",
        "    \"test1\": test1,\n",
        "    \"test2\": test2\n",
        "})\n",
        "\n",
        "# 2) Train/test split\n",
        "X_train, X_test, y_train, y_test = train_test_split(X, y, test_size=0.25, random_state=7, stratify=y)\n",
        "\n",
        "# 3) Scale + model\n",
        "scaler = StandardScaler().fit(X_train)\n",
        "Xtr = scaler.transform(X_train)\n",
        "Xte = scaler.transform(X_test)\n",
        "\n",
        "model = LogisticRegression(max_iter=200)\n",
        "model.fit(Xtr, y_train)\n",
        "\n",
        "# 4) Evaluate\n",
        "pred = model.predict(Xte)\n",
        "print(\"Accuracy:\", round(accuracy_score(y_test, pred), 3))\n",
        "print(\"\\nClassification Report:\\n\", classification_report(y_test, pred, target_names=[\"Fail\",\"Pass\"]))\n",
        "print(\"\\nConfusion Matrix:\\n\", confusion_matrix(y_test, pred))\n",
        "\n",
        "# 5) Simple predictor function\n",
        "def predict_grade(study_hours, attendance, test1, test2):\n",
        "    import numpy as np\n",
        "    x = np.array([[study_hours, attendance, test1, test2]])\n",
        "    x = scaler.transform(x)\n",
        "    p = model.predict_proba(x)[0,1]\n",
        "    label = \"Pass\" if p >= 0.5 else \"Fail\"\n",
        "    return label, float(p)\n",
        "\n",
        "# Example:\n",
        "label, p = predict_grade(3.0, 85, 72, 75)\n",
        "print(f\"\\nExample prediction → {label} (prob={p:.2f})\")\n",
        "\n",
        "# 6) Save artifacts (optional)\n",
        "import joblib\n",
        "joblib.dump(model, \"grade_model.joblib\")\n",
        "joblib.dump(scaler, \"grade_scaler.joblib\")"
      ]
    },
    {
      "cell_type": "code",
      "source": [],
      "metadata": {
        "id": "b6v1zv7VP86u"
      },
      "execution_count": null,
      "outputs": []
    }
  ]
}