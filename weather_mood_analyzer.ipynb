{
  "nbformat": 4,
  "nbformat_minor": 0,
  "metadata": {
    "colab": {
      "provenance": [],
      "authorship_tag": "ABX9TyOkwPIsy1df+XwL83MCUAsF",
      "include_colab_link": true
    },
    "kernelspec": {
      "name": "python3",
      "display_name": "Python 3"
    },
    "language_info": {
      "name": "python"
    }
  },
  "cells": [
    {
      "cell_type": "markdown",
      "metadata": {
        "id": "view-in-github",
        "colab_type": "text"
      },
      "source": [
        "<a href=\"https://colab.research.google.com/github/Afnan05443/ai_mini_projects/blob/main/weather_mood_analyzer.ipynb\" target=\"_parent\"><img src=\"https://colab.research.google.com/assets/colab-badge.svg\" alt=\"Open In Colab\"/></a>"
      ]
    },
    {
      "cell_type": "code",
      "execution_count": 1,
      "metadata": {
        "colab": {
          "base_uri": "https://localhost:8080/"
        },
        "id": "fzAYenssRbN7",
        "outputId": "a594e11a-ac6a-405a-c42c-b7bf6616437f"
      },
      "outputs": [
        {
          "output_type": "stream",
          "name": "stdout",
          "text": [
            "Rome: 22.8°C, wind 8.2 km/h, code 2 → Mood: Chill 🙂\n",
            "Dhaka: 26.9°C, wind 4.1 km/h, code 3 → Mood: Chill 🙂\n",
            "Kuala Lumpur: 28.4°C, wind 6.6 km/h, code 3 → Mood: Chill 🙂\n"
          ]
        }
      ],
      "source": [
        "# --- Weather Mood Analyzer using Open-Meteo (no API key) ---\n",
        "import requests\n",
        "\n",
        "# Some city coordinates (add more if you want)\n",
        "CITIES = {\n",
        "    \"Rome\": (41.9028, 12.4964),\n",
        "    \"Milan\": (45.4642, 9.1900),\n",
        "    \"Dhaka\": (23.8103, 90.4125),\n",
        "    \"Kuala Lumpur\": (3.1390, 101.6869),\n",
        "    \"Madrid\": (40.4168, -3.7038)\n",
        "}\n",
        "\n",
        "def get_weather(lat, lon):\n",
        "    url = (\n",
        "        \"https://api.open-meteo.com/v1/forecast\"\n",
        "        f\"?latitude={lat}&longitude={lon}&current_weather=true\"\n",
        "    )\n",
        "    r = requests.get(url, timeout=15)\n",
        "    r.raise_for_status()\n",
        "    data = r.json()[\"current_weather\"]\n",
        "    return {\n",
        "        \"temperature\": data.get(\"temperature\"),\n",
        "        \"windspeed\": data.get(\"windspeed\"),\n",
        "        \"weathercode\": data.get(\"weathercode\")\n",
        "    }\n",
        "\n",
        "# Simple mapping of weather codes to a mood\n",
        "def mood_from_weathercode(code):\n",
        "    # 0: clear sky, 1-3: mainly clear/partly cloudy, 45/48: fog,\n",
        "    # 51-67: drizzle/rain, 71-77: snow, 80-82: showers, 95-99: thunder\n",
        "    if code == 0:\n",
        "        return \"Happy 😄\"\n",
        "    elif code in [1,2,3]:\n",
        "        return \"Chill 🙂\"\n",
        "    elif code in [45,48]:\n",
        "        return \"Sleepy 😴\"\n",
        "    elif 51 <= code <= 67:\n",
        "        return \"Lazy 😌\"\n",
        "    elif 71 <= code <= 77:\n",
        "        return \"Cozy 🧣\"\n",
        "    elif 80 <= code <= 82:\n",
        "        return \"Moody 😐\"\n",
        "    elif 95 <= code <= 99:\n",
        "        return \"Stressed 😬\"\n",
        "    else:\n",
        "        return \"Neutral 😶\"\n",
        "\n",
        "def analyze_city(city):\n",
        "    if city not in CITIES:\n",
        "        raise ValueError(f\"Unknown city '{city}'. Add it to CITIES.\")\n",
        "    lat, lon = CITIES[city]\n",
        "    w = get_weather(lat, lon)\n",
        "    mood = mood_from_weathercode(w[\"weathercode\"])\n",
        "    return city, w[\"temperature\"], w[\"windspeed\"], w[\"weathercode\"], mood\n",
        "\n",
        "# Example usage:\n",
        "for city in [\"Rome\", \"Dhaka\", \"Kuala Lumpur\"]:\n",
        "    city, t, wind, code, mood = analyze_city(city)\n",
        "    print(f\"{city}: {t}°C, wind {wind} km/h, code {code} → Mood: {mood}\")"
      ]
    },
    {
      "cell_type": "code",
      "source": [],
      "metadata": {
        "id": "Mnkxj6c3RlPr"
      },
      "execution_count": null,
      "outputs": []
    }
  ]
}